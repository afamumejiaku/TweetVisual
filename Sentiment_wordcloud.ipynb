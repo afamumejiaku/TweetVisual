{
 "cells": [
  {
   "cell_type": "markdown",
   "metadata": {},
   "source": [
    "# WORD CLOUD AND SENTIMENT ANALYSIS"
   ]
  },
  {
   "cell_type": "markdown",
   "metadata": {},
   "source": [
    "## INSTALL LIBRARIES IF NOT INSTALLED"
   ]
  },
  {
   "cell_type": "code",
   "execution_count": null,
   "metadata": {},
   "outputs": [],
   "source": [
    "pip install matplotlib"
   ]
  },
  {
   "cell_type": "code",
   "execution_count": null,
   "metadata": {},
   "outputs": [],
   "source": [
    "pip install numpy"
   ]
  },
  {
   "cell_type": "code",
   "execution_count": null,
   "metadata": {},
   "outputs": [],
   "source": [
    "pip install pillow"
   ]
  },
  {
   "cell_type": "code",
   "execution_count": null,
   "metadata": {},
   "outputs": [],
   "source": [
    "pip install wordcloud"
   ]
  },
  {
   "cell_type": "code",
   "execution_count": null,
   "metadata": {},
   "outputs": [],
   "source": [
    "pip install  textblob"
   ]
  },
  {
   "cell_type": "code",
   "execution_count": null,
   "metadata": {},
   "outputs": [],
   "source": [
    "pip install pandas"
   ]
  },
  {
   "cell_type": "markdown",
   "metadata": {},
   "source": [
    "## CALL LIBRARIES"
   ]
  },
  {
   "cell_type": "code",
   "execution_count": 1,
   "metadata": {},
   "outputs": [],
   "source": [
    "import json\n",
    "import glob\n",
    "import datetime \n",
    "import re, string\n",
    "from textblob import TextBlob \n",
    "import pandas as pd\n",
    "import matplotlib.pyplot as plt\n",
    "import os\n",
    "from wordcloud import WordCloud, STOPWORDS\n",
    "from nltk.tokenize import word_tokenize\n",
    "from PIL import Image\n",
    "import numpy as np"
   ]
  },
  {
   "cell_type": "code",
   "execution_count": 2,
   "metadata": {},
   "outputs": [],
   "source": [
    "stopwords = set(STOPWORDS)\n",
    "stopwords.update([\"I\", \"?\", \".\", \";\", \"'\", \",\", \"[\", \"]\", \"(\", \")\",\"1\",\"2\",\"3\",\"4\",\"5\",\"6\",\"7\",\"8\",\"9\",\"0\",\"/\",\":\", \"tweet\", \"dtype\", \"object\"])\n",
    "%matplotlib inline"
   ]
  },
  {
   "cell_type": "markdown",
   "metadata": {},
   "source": [
    "## SENTIMENT ANALYSIS CLASSIFER"
   ]
  },
  {
   "cell_type": "code",
   "execution_count": 3,
   "metadata": {},
   "outputs": [],
   "source": [
    "def clean_tweet(tweet): \n",
    "    ''' \n",
    "    Utility function to clean tweet text by removing links, special characters \n",
    "    using simple regex statements. \n",
    "    '''\n",
    "    return ' '.join(re.sub(\"(@[A-Za-z0-9]+)|([^0-9A-Za-z \\t])|(\\w+:\\/\\/\\S+)\", \" \", tweet).split()) \n",
    "  \n",
    "def get_tweet_sentiment(tweet): \n",
    "    ''' \n",
    "    Utility function to classify sentiment of passed tweet \n",
    "    using textblob's sentiment method \n",
    "    '''\n",
    "# create TextBlob object of passed tweet text \n",
    "    analysis = TextBlob(clean_tweet(tweet)) \n",
    "    # set sentiment \n",
    "    if analysis.sentiment.polarity > 0: \n",
    "        return 'positive'\n",
    "    elif analysis.sentiment.polarity == 0: \n",
    "        return 'neutral'\n",
    "    else: \n",
    "        return 'negative'\n",
    "#  \n",
    "def get_tweets(df): \n",
    "    ''' \n",
    "    Main function to fetch tweets and parse them. \n",
    "    '''\n",
    "    # empty list to store parsed tweets \n",
    "    tweets = [] \n",
    "    \n",
    "    # call twitter api to fetch tweets \n",
    "    fetched_tweets = df \n",
    "  \n",
    "    # parsing tweets one by one \n",
    "    for tweet in fetched_tweets.index: \n",
    "        # empty dictionary to store required params of a tweet \n",
    "        parsed_tweet = {} \n",
    "        # saving text of tweet \n",
    "        parsed_tweet['text'] = fetched_tweets['Tweet'][tweet]\n",
    "        # saving sentiment of tweet \n",
    "        parsed_tweet['sentiment'] = get_tweet_sentiment(fetched_tweets['Tweet'][tweet]) \n",
    "        # appending parsed tweet to tweets list \n",
    "        if parsed_tweet not in tweets:\n",
    "            tweets.append(parsed_tweet) \n",
    "        else:\n",
    "            tweets.append(parsed_tweet) \n",
    "  \n",
    "    # return parsed tweets \n",
    "    return tweets \n"
   ]
  },
  {
   "cell_type": "markdown",
   "metadata": {},
   "source": [
    "## EXTRACT TWEET FROM JSON FILE FROM ARCHIVES.COM"
   ]
  },
  {
   "cell_type": "code",
   "execution_count": 6,
   "metadata": {},
   "outputs": [],
   "source": [
    "#For single Json Files\n",
    "\n",
    "tweets= []\n",
    "time_tweets= []\n",
    "\n",
    "A = open(file, 'r')\n",
    "for line in A:\n",
    "        B = line\n",
    "        if \"source\" in B:\n",
    "            C = B.index(\"source\")\n",
    "            D = C - 2\n",
    "    \n",
    "            start = B.index(\"created_at\") + len(\"created_at\") + 3\n",
    "            end = B.index(\"id\") - 3\n",
    "    \n",
    "            date = B[start:end]\n",
    "            date = date.replace(\"Jan\", \"01\")\n",
    "            date = date.replace(\"Feb\", \"02\")\n",
    "            date = date.replace(\"Mar\", \"03\")\n",
    "            date = date.replace(\"Apr\", \"04\")\n",
    "            date = date.replace(\"May\", \"05\")\n",
    "            date = date.replace(\"Jun\", \"06\")\n",
    "            date = date.replace(\"Jul\", \"07\")\n",
    "            date = date.replace(\"Aug\", \"08\")\n",
    "            date = date.replace(\"Sep\", \"09\")\n",
    "            date = date.replace(\"Oct\", \"10\")\n",
    "            date = date.replace(\"Nov\", \"11\") \n",
    "            date = date.replace(\"Dec\", \"12\")\n",
    "            date = datetime.datetime(int(date[25:29]),int(date[4:6]),int(date[7:9]),int(date[10:12]),int(date[13:15]),int(date[16:18]),int(date[20:24]))\n",
    "          \n",
    "            start = B.index(\"text\") + len(\"text\") + 3\n",
    "            if \"display_text_range\" in B:\n",
    "                end = min(B.index(\"source\") - 3, B.index(\"display_text_range\") - 3)\n",
    "            else:\n",
    "                end = B.index(\"source\") - 3\n",
    "                tweet = B[start:end]\n",
    "\n",
    "        tweets.append(tweet)\n",
    "        time_tweets.append([date, tweet])\n",
    "\n",
    "\n",
    "df1 = pd.DataFrame(tweets, columns = ['Tweet'])\n",
    "df1.to_csv(r'Tweet.csv', header=True)\n",
    "\n",
    "df2 = pd.DataFrame(time_tweets, columns = ['date','Tweet'])\n",
    "df2.to_csv(r'Time_Tweet.csv', header=True)"
   ]
  },
  {
   "cell_type": "code",
   "execution_count": null,
   "metadata": {},
   "outputs": [],
   "source": [
    "#For Multiple Json Files\n",
    "\n",
    "tweets= []\n",
    "time_tweets= []\n",
    "\n",
    "\n",
    "Files = glob.glob(\"*.json\")\n",
    "for file in Files:\n",
    "    A = open(file, 'r')\n",
    "    for line in A:\n",
    "            B = line\n",
    "            if \"source\" in B:\n",
    "                C = B.index(\"source\")\n",
    "                D = C - 2\n",
    "    \n",
    "                start = B.index(\"created_at\") + len(\"created_at\") + 3\n",
    "                end = B.index(\"id\") - 3\n",
    "    \n",
    "                date = B[start:end]\n",
    "                date = date.replace(\"Jan\", \"01\")\n",
    "                date = date.replace(\"Feb\", \"02\")\n",
    "                date = date.replace(\"Mar\", \"03\")\n",
    "                date = date.replace(\"Apr\", \"04\")\n",
    "                date = date.replace(\"May\", \"05\")\n",
    "                date = date.replace(\"Jun\", \"06\")\n",
    "                date = date.replace(\"Jul\", \"07\")\n",
    "                date = date.replace(\"Aug\", \"08\")\n",
    "                date = date.replace(\"Sep\", \"09\")\n",
    "                date = date.replace(\"Oct\", \"10\")\n",
    "                date = date.replace(\"Nov\", \"11\") \n",
    "                date = date.replace(\"Dec\", \"12\")\n",
    "                date = datetime.datetime(int(date[25:29]),int(date[4:6]),int(date[7:9]),int(date[10:12]),int(date[13:15]),int(date[16:18]),int(date[20:24]))\n",
    "          \n",
    "                start = B.index(\"text\") + len(\"text\") + 3\n",
    "                if \"display_text_range\" in B:\n",
    "                    end = min(B.index(\"source\") - 3, B.index(\"display_text_range\") - 3)\n",
    "                else:\n",
    "                    end = B.index(\"source\") - 3\n",
    "                    tweet = B[start:end]\n",
    "\n",
    "            tweets.append(tweet)\n",
    "            time_tweets.append([date, tweet])\n",
    "\n",
    "\n",
    "df1 = pd.DataFrame(tweets, columns = ['Tweet'])\n",
    "df1.to_csv(r'Tweet.csv', header=True)\n",
    "\n",
    "df2 = pd.DataFrame(time_tweets, columns = ['date','Tweet'])\n",
    "df2.to_csv(r'Time_Tweet.csv', header=True)"
   ]
  },
  {
   "cell_type": "markdown",
   "metadata": {},
   "source": [
    "## ANALYZE TWEETS"
   ]
  },
  {
   "cell_type": "code",
   "execution_count": 7,
   "metadata": {},
   "outputs": [
    {
     "name": "stdout",
     "output_type": "stream",
     "text": [
      "Positive tweets percentage: 20.131769940717092 %\n",
      "Negative tweets percentage: 5.733846425163808 %\n",
      "Neutral tweets percentage: 74.1343836341191 %\n"
     ]
    }
   ],
   "source": [
    "def main(): \n",
    "    df=pd.read_csv(r'TweeT.csv')\n",
    "    tweets = get_tweets(df)\n",
    "    ptweets_text=[]\n",
    "    ntweets_text=[]\n",
    "    neutraltweets_text=[]\n",
    "  \n",
    "    # picking positive tweets from tweets \n",
    "    ptweets = [tweet for tweet in tweets if tweet['sentiment'] == 'positive'] \n",
    "    # percentage of positive tweets \n",
    "    print(\"Positive tweets percentage: {} %\".format(100*len(ptweets)/len(tweets))) \n",
    "    # picking negative tweets from tweets \n",
    "    ntweets = [tweet for tweet in tweets if tweet['sentiment'] == 'negative'] \n",
    "    # picking neutral tweets from tweets \n",
    "    neutraltweets = [tweet for tweet in tweets if tweet['sentiment'] == 'neutral'] \n",
    "    # percentage of negative tweets \n",
    "    print(\"Negative tweets percentage: {} %\".format(100*len(ntweets)/len(tweets))) \n",
    "    # percentage of neutral tweets \n",
    "    print(\"Neutral tweets percentage: {} %\".format(100*(len(tweets) -(len( ntweets )+len( ptweets)))/len(tweets))) \n",
    "  \n",
    "    # storing positive tweets \n",
    "    for tweet in ptweets: \n",
    "        ptweets_text.append(tweet['text']) \n",
    "  \n",
    "    # storing negative tweets  \n",
    "    for tweet in ntweets: \n",
    "        ntweets_text.append(tweet['text']) \n",
    "        \n",
    "     # storing neutral tweets  \n",
    "    for tweet in neutraltweets: \n",
    "        neutraltweets_text.append(tweet['text']) \n",
    "\n",
    "    df1 = pd.DataFrame(ptweets_text, columns = ['Tweet'])\n",
    "    df1.to_csv(r'Positive_Tweet.csv', header=True)\n",
    "\n",
    "    df2 = pd.DataFrame(ntweets_text, columns = ['Tweet'])\n",
    "    df2.to_csv(r'Negative_Tweet.csv', header=True)\n",
    "\n",
    "    df3 = pd.DataFrame(neutraltweets_text, columns = ['Tweet'])\n",
    "    df3.to_csv(r'Neutral_Tweet.csv', header=True)\n",
    "\n",
    "\n",
    "if __name__ == \"__main__\": \n",
    "    # calling main function \n",
    "    main() "
   ]
  },
  {
   "cell_type": "markdown",
   "metadata": {},
   "source": [
    "## READ FILE FOR WORD CLOUD"
   ]
  },
  {
   "cell_type": "code",
   "execution_count": null,
   "metadata": {},
   "outputs": [],
   "source": [
    "# Read the text from document ‘sample_text.txt’\n",
    "text = open('1.txt', encoding=\"utf8\").read()"
   ]
  },
  {
   "cell_type": "code",
   "execution_count": null,
   "metadata": {},
   "outputs": [],
   "source": [
    "# Reads single .csv file  \n",
    "df = pd.read_csv(r\"TweeT.csv\") \n",
    "comment_words = '' \n",
    "val = str(df[\"Tweet\"]) \n",
    "\n",
    "# split the value \n",
    "tokens = val.split() \n",
    "      \n",
    "# Converts each token into lowercase \n",
    "for i in range(len(tokens)): \n",
    "    tokens[i] = tokens[i].lower()    \n",
    "comment_words += \" \".join(tokens)+\" \"\n",
    "word_tokens = word_tokenize(comment_words) \n",
    "filtered_sentence = [w for w in word_tokens if not w in stopwords]   \n",
    "filtered_sentence = []  \n",
    "for w in word_tokens: \n",
    "    if w not in stopwords: \n",
    "        filtered_sentence.append(w) \n",
    "cleanedWords = '' \n",
    "cleanedWords += \" \".join(filtered_sentence)+\" \"\n",
    "print(cleanedWords)"
   ]
  },
  {
   "cell_type": "code",
   "execution_count": 11,
   "metadata": {},
   "outputs": [],
   "source": [
    "# Reads multiple .csv file  \n",
    "def read_files(file):\n",
    "    df = pd.read_csv(file) \n",
    "    comment_words = '' \n",
    "    val = str(df[\"Tweet\"]) \n",
    "\n",
    "    # split the value \n",
    "    tokens = val.split() \n",
    "      \n",
    "    # Converts each token into lowercase \n",
    "    for i in range(len(tokens)): \n",
    "        tokens[i] = tokens[i].lower()    \n",
    "    comment_words += \" \".join(tokens)+\" \"\n",
    "    word_tokens = word_tokenize(comment_words) \n",
    "    filtered_sentence = [w for w in word_tokens if not w in stopwords]   \n",
    "    filtered_sentence = []  \n",
    "    for w in word_tokens: \n",
    "        if w not in stopwords: \n",
    "            filtered_sentence.append(w) \n",
    "    cleanedWords = '' \n",
    "    cleanedWords += \" \".join(filtered_sentence)+\" \"\n",
    "    return(cleanedWords)\n",
    "\n",
    "positive_cleanedWords = read_files('Positive_Tweet.csv')\n",
    "negative_cleanedWords = read_files('Negative_Tweet.csv')\n",
    "neutral_cleanedWords = read_files('Neutral_Tweet.csv')\n"
   ]
  },
  {
   "cell_type": "markdown",
   "metadata": {},
   "source": [
    "## GENERATE WORD CLOUD IMAGE"
   ]
  },
  {
   "cell_type": "code",
   "execution_count": null,
   "metadata": {},
   "outputs": [],
   "source": [
    "# Generate a word cloud image of document\n",
    "wordcloud = WordCloud(width=780, height=405,\n",
    " background_color=\"#ffde59\").generate(cleanedWords)"
   ]
  },
  {
   "cell_type": "code",
   "execution_count": null,
   "metadata": {},
   "outputs": [],
   "source": [
    "# read the mask image from image then generate word cloud\n",
    "bottle_mask = np.array(Image.open(\"bottle.png\"))\n",
    "wordcloud = WordCloud(background_color=\"white\", mask=bottle_mask,\n",
    "               stopwords=stopwords, contour_width=3, contour_color='steelblue')\n",
    "wordcloud.generate(cleanedWords)"
   ]
  },
  {
   "cell_type": "code",
   "execution_count": 12,
   "metadata": {},
   "outputs": [],
   "source": [
    "# Generate sentiment based word cloud image of document\n",
    "positive_wordcloud = WordCloud(width=780, height=405, background_color=\"green\").generate(positive_cleanedWords)\n",
    "negative_wordcloud = WordCloud(width=780, height=405, background_color=\"red\").generate(negative_cleanedWords)\n",
    "neutral_wordcloud = WordCloud(width=780, height=405, background_color=\"#ffffff\").generate(neutral_cleanedWords)"
   ]
  },
  {
   "cell_type": "markdown",
   "metadata": {},
   "source": [
    "## DISPLAY WORD CLOUD IMAGE"
   ]
  },
  {
   "cell_type": "code",
   "execution_count": null,
   "metadata": {},
   "outputs": [],
   "source": [
    "# Display the generated single image:\n",
    "plt.imshow(wordcloud, interpolation='bilinear')\n",
    "plt.axis('off')\n",
    "plt.show()"
   ]
  },
  {
   "cell_type": "code",
   "execution_count": 13,
   "metadata": {},
   "outputs": [
    {
     "data": {
      "image/png": "[encoded data removed]",
      "text/plain": [
       "<Figure size 432x288 with 3 Axes>"
      ]
     },
     "metadata": {
      "needs_background": "light"
     },
     "output_type": "display_data"
    }
   ],
   "source": [
    "# Display the generated seperated image:\n",
    "fig, axs = plt.subplots(3, sharex=True, sharey=True, gridspec_kw={'hspace': 0})\n",
    "fig.suptitle('Red for Negative, white Neutral and Green for Positive')\n",
    "axs[0].imshow(positive_wordcloud, interpolation='bilinear')\n",
    "axs[2].imshow(negative_wordcloud, interpolation='bilinear')\n",
    "axs[1].imshow(neutral_wordcloud, interpolation='bilinear')\n",
    "\n",
    "# Hide x labels and tick labels for all but bottom plot.\n",
    "for ax in axs:\n",
    "    ax.label_outer()\n",
    "plt.show()"
   ]
  },
  {
   "cell_type": "code",
   "execution_count": null,
   "metadata": {},
   "outputs": [],
   "source": []
  }
 ],
 "metadata": {
  "kernelspec": {
   "display_name": "Python 3",
   "language": "python",
   "name": "python3"
  },
  "language_info": {
   "codemirror_mode": {
    "name": "ipython",
    "version": 3
   },
   "file_extension": ".py",
   "mimetype": "text/x-python",
   "name": "python",
   "nbconvert_exporter": "python",
   "pygments_lexer": "ipython3",
   "version": "3.7.4"
  }
 },
 "nbformat": 4,
 "nbformat_minor": 2
}
